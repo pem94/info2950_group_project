{
 "cells": [
  {
   "cell_type": "markdown",
   "metadata": {},
   "source": [
    "# Exploring Spotify and other stuffs\n",
    "\n",
    "## Research Questions\n",
    "\n",
    "How has the duration of songs changed over the past century with the introduction of new music technology? "
   ]
  },
  {
   "cell_type": "markdown",
   "metadata": {},
   "source": [
    "## Data cleaning\n",
    "- Have an initial draft of your data cleaning appendix\n",
    "- Document every step that takes your raw data files and turns it into the analysis-ready dataset that you would submit with your final project\n",
    "- All of your data cleaning code should be found in this section and you may want to explain the steps of your data cleaning in words as well\n"
   ]
  },
  {
   "cell_type": "code",
   "execution_count": null,
   "metadata": {},
   "outputs": [],
   "source": []
  },
  {
   "cell_type": "code",
   "execution_count": 49,
   "metadata": {},
   "outputs": [
    {
     "name": "stdout",
     "output_type": "stream",
     "text": [
      "        duration_ms       tempo\n",
      "year                           \n",
      "1921  229911.914062  100.397758\n",
      "1922  167904.541667  101.376139\n",
      "1923  178356.301775  112.456598\n",
      "1924  188461.649789  120.653359\n",
      "1925  184130.699620  115.671715\n",
      "...             ...         ...\n",
      "2016  219400.763840  119.070344\n",
      "2017  209343.613000  116.840278\n",
      "2018  200919.119000  122.004325\n",
      "2019  197733.133000  118.868163\n",
      "2020  197114.662301  121.228704\n",
      "\n",
      "[100 rows x 2 columns]\n"
     ]
    },
    {
     "name": "stderr",
     "output_type": "stream",
     "text": [
      "<ipython-input-49-94bffc2f9088>:31: FutureWarning: Indexing with multiple keys (implicitly converted to a tuple of keys) will be deprecated, use a list instead.\n",
      "  duration_year = new_data.groupby([\"year\"])['duration_ms','tempo'].mean()\n"
     ]
    }
   ],
   "source": [
    "import pandas as pd\n",
    "import matplotlib.pyplot as plt\n",
    "from sklearn.linear_model import LinearRegression\n",
    "\n",
    "raw_year_data = pd.read_csv(\"data_by_year.csv\")\n",
    "raw_genre_data = pd.read_csv(\"data_by_genres.csv\")\n",
    "raw_artist_data = pd.read_csv(\"data_by_artist.csv\")\n",
    "raw_total_data = pd.read_csv(\"data.csv\")\n",
    "\n",
    "#Removing Relevant Columns\n",
    "new_year_data = raw_year_data[['year','danceability', 'duration_ms','instrumentalness','liveness','loudness','tempo','valence','popularity']]\n",
    "new_genre_data = raw_genre_data[['genres','danceability', 'duration_ms','instrumentalness','liveness','loudness','tempo','valence','popularity']]\n",
    "new_artist_data = raw_artist_data[['artists','danceability', 'duration_ms','instrumentalness','liveness','loudness','tempo','popularity']]\n",
    "\n",
    "#Cleaning Artist Data\n",
    "\n",
    "new_artist_data.drop_duplicates()\n",
    "new_artist_data.iloc[0:27261] #removed artists with names that aren't English\n",
    "\n",
    "#Cleaning Genre Data\n",
    "new_genre_data.iloc[2:] #removing first two non-sensiscal rows\n",
    "\n",
    "#dropping unwanted columns and creating new dataframe\n",
    "\n",
    "new_data = raw_total_data.copy()\n",
    "new_year = new_year_data.copy()\n",
    "#new_data.drop([\"danceability\",\"name\",\"speechiness\",\"acousticness\",\"id\",\"release_date\",\"loudness\",\"liveness\",\"key\",\"instrumentalness\",\"explicit\",\"energy\",\"mode\",\"valence\"])\n",
    "\n",
    "#grouping data by year and averaging the duration and tempo of all the songs released in that year\n",
    "\n",
    "duration_year = new_data.groupby([\"year\"])['duration_ms','tempo'].mean()\n",
    "df_year = pd.DataFrame(duration_year)\n",
    "print(df_year)\n",
    "\n",
    "#renaming columns in new dataframe\n",
    "\n",
    "#df_year.rename(columns={\"duration_ms\":\"Avg_Dur_ms\"})\n",
    "\n",
    "#capitalizing names of columns\n",
    "\n",
    "df_year.columns = df_year.columns.str.capitalize()\n",
    "\n",
    "#create new data frame with innovative technologies\n",
    "new_technologies = pd.DataFrame( {\"year\" : [1925, 1928, 1931, 1935, 1937, 1940, 1954, 1962, 1963, 1965, 1972, 1979, 1982, 1986, 1989, 1991, 1995, 1997, 2001, 2004, 2007],\n",
    "                                 \"innovation\" : ['Victor Orthophonic Victrola Phonograph', 'Magnetic Tape', 'The LP', 'AEG Magnetophon Tape Recorder', 'Bell Labs Two-Channel Stereo', 'The Vocoder',\n",
    "                                                'Regency TR-1 Transistor Radio', 'JTM45 Amplifier', 'Phillips Compact Cassette Tape', '8-Track Tape', 'Technics SL-1200 Turntables',\n",
    "                                                'The Walkman', 'Commercial Compact Disc', 'Akai S900 Sampler', 'The World Wide Web', 'Pro Tools', 'The MP3', 'Auto-Tune', 'iPod', 'GarageBand', 'SoundCloud']\n",
    "                                 })\n",
    "\n",
    "#print(new_technologies)\n",
    "#finding dataset with genre, match the duration in ms to this dataset to find the genres of each year\n",
    "\n",
    "#show new dataframe\n"
   ]
  },
  {
   "cell_type": "markdown",
   "metadata": {},
   "source": [
    "## Data description \n",
    "- The data we have collected analyzes the audio features of 160,000+ songs on Spotify released between 1920 and 2020. Through grouping the tracks in terms of genre and release date (year) we aimed to explore how music has changed over the last century and in what ways. In order to assess the specific ways in which songs have changed, we chose to analyze danceability, song duration, acousticness, popularity, and tempo of tracks. Our group was specifically interested in what ways the evolution of new music technology may have influenced the progression of certain acoustic elements over others. For example, how did the release of the transistor radio or the iPod potentially influence the most popular music genres and audio qualities? We were also especailly intersted in how the emergence of new social media applications that foster short time spans may have possibly contribtued to a decrease in song duration as more emphasis in song creation is placed upon making a quick, catchy \"hit\"."
   ]
  },
  {
   "cell_type": "markdown",
   "metadata": {},
   "source": [
    "## Data limitations \n",
    "- Some constraints that exist within our datasets include our inability to compare genres over many years. Our original huge dataset grouped songs by artist and release date, but not by genre. As a result, we were able to compile information on different ...."
   ]
  },
  {
   "cell_type": "markdown",
   "metadata": {},
   "source": [
    "## Exploratory data analysis\n",
    "- Our initial data exploration has shown interseting trends in song duration, popularity, and danceability. Our quick analysis shows us that in the last decade song duration initially showed a pretty strong trend in increasing song duration, however in the last decade this trend has taken a sharp decline. Popularity also shows an incredibly linear relationship over the last century. Danceability ...."
   ]
  },
  {
   "cell_type": "code",
   "execution_count": 50,
   "metadata": {},
   "outputs": [
    {
     "name": "stdout",
     "output_type": "stream",
     "text": [
      "LinearRegression()\n"
     ]
    },
    {
     "data": {
      "text/plain": [
       "<matplotlib.collections.PathCollection at 0x7fdffcf4bf10>"
      ]
     },
     "execution_count": 50,
     "metadata": {},
     "output_type": "execute_result"
    },
    {
     "data": {
      "image/png": "[encoded data removed]",
      "text/plain": [
       "<Figure size 432x288 with 1 Axes>"
      ]
     },
     "metadata": {
      "needs_background": "light"
     },
     "output_type": "display_data"
    }
   ],
   "source": [
    "comparison_model = LinearRegression().fit( new_data[['year']], new_data['danceability'])\n",
    "print(comparison_model)\n",
    "\n",
    "plt.scatter(new_year['year'], new_year['duration_ms'], alpha=0.5)\n"
   ]
  },
  {
   "cell_type": "code",
   "execution_count": 51,
   "metadata": {},
   "outputs": [
    {
     "data": {
      "text/plain": [
       "<matplotlib.collections.PathCollection at 0x7fe01d119b80>"
      ]
     },
     "execution_count": 51,
     "metadata": {},
     "output_type": "execute_result"
    },
    {
     "data": {
      "image/png": "[encoded data removed]",
      "text/plain": [
       "<Figure size 432x288 with 1 Axes>"
      ]
     },
     "metadata": {
      "needs_background": "light"
     },
     "output_type": "display_data"
    }
   ],
   "source": [
    "plt.scatter(new_year['year'], new_year['popularity'], alpha=0.5)"
   ]
  },
  {
   "cell_type": "code",
   "execution_count": 53,
   "metadata": {},
   "outputs": [
    {
     "data": {
      "text/plain": [
       "<matplotlib.collections.PathCollection at 0x7fdff98c5b80>"
      ]
     },
     "execution_count": 53,
     "metadata": {},
     "output_type": "execute_result"
    },
    {
     "data": {
      "image/png": "[encoded data removed]",
      "text/plain": [
       "<Figure size 432x288 with 1 Axes>"
      ]
     },
     "metadata": {
      "needs_background": "light"
     },
     "output_type": "display_data"
    }
   ],
   "source": [
    "plt.scatter(new_year['year'], new_year['danceability'], alpha=0.5)"
   ]
  },
  {
   "cell_type": "code",
   "execution_count": 55,
   "metadata": {},
   "outputs": [
    {
     "data": {
      "text/plain": [
       "<matplotlib.collections.PathCollection at 0x7fe01e5ec190>"
      ]
     },
     "execution_count": 55,
     "metadata": {},
     "output_type": "execute_result"
    },
    {
     "data": {
      "image/png": "[encoded data removed]",
      "text/plain": [
       "<Figure size 432x288 with 1 Axes>"
      ]
     },
     "metadata": {
      "needs_background": "light"
     },
     "output_type": "display_data"
    }
   ],
   "source": [
    "plt.scatter(new_year['year'], new_year['tempo'], alpha=0.5)"
   ]
  },
  {
   "cell_type": "markdown",
   "metadata": {},
   "source": [
    "## Questions for reviewers\n",
    "- We want to consolidate the genres we have (currently there are over 2000 unique genres), but we're not sure the best way to do this. \n",
    "- Is it okay that we are primarily using the consolidated data_by_year dataset to create most of our graphs and draw most of our conclusions? Because our huge data set with 160,000+ songs is so long, we were unable to make analyses directly from that dataset without comparing the data when it was not aggregated by year. \n"
   ]
  },
  {
   "cell_type": "code",
   "execution_count": null,
   "metadata": {},
   "outputs": [],
   "source": []
  }
 ],
 "metadata": {
  "kernelspec": {
   "display_name": "Python 3",
   "language": "python",
   "name": "python3"
  },
  "language_info": {
   "codemirror_mode": {
    "name": "ipython",
    "version": 3
   },
   "file_extension": ".py",
   "mimetype": "text/x-python",
   "name": "python",
   "nbconvert_exporter": "python",
   "pygments_lexer": "ipython3",
   "version": "3.8.3"
  }
 },
 "nbformat": 4,
 "nbformat_minor": 4
}
