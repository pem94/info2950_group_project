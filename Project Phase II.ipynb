{
 "cells": [
  {
   "cell_type": "markdown",
   "metadata": {},
   "source": [
    "# Exploring Spotify and other stuffs\n",
    "\n",
    "## Research Questions\n",
    "\n",
    "How have popular songs changed over the years in terms of their musical qualities? Key, tempo, rhythm etc\n",
    "\n",
    "How have new technologies influenced the music people listen to? Do danceability / energy change? \n",
    "\n",
    "Is there a correlation between specific qualities of music and artist sales/success? As measured by sales or as measured by other things such as awards/news mentions/social media followers?\n",
    "\n",
    "Is there a correlation between artists social media followers and sales/success?\n",
    "\n",
    "Is there a correlation between artists' followers on social media and streams?"
   ]
  },
  {
   "cell_type": "markdown",
   "metadata": {},
   "source": [
    "## Data cleaning\n",
    "- Have an initial draft of your data cleaning appendix\n",
    "- Document every step that takes your raw data files and turns it into the analysis-ready dataset that you would submit with your final project\n",
    "- All of your data cleaning code should be found in this section and you may want to explain the steps of your data cleaning in words as well\n"
   ]
  },
  {
   "cell_type": "code",
   "execution_count": null,
   "metadata": {},
   "outputs": [],
   "source": []
  },
  {
   "cell_type": "markdown",
   "metadata": {},
   "source": [
    "## Data description \n",
    "- Have an initial draft of your data description section\n",
    "- Your data description should be about your analysis-ready data"
   ]
  },
  {
   "cell_type": "markdown",
   "metadata": {},
   "source": [
    "## Data limitations \n",
    "- Identify any potential problems with your dataset"
   ]
  },
  {
   "cell_type": "markdown",
   "metadata": {},
   "source": [
    "## Exploratory data analysis\n",
    "- Perform an (initial) exploratory data analysis"
   ]
  },
  {
   "cell_type": "markdown",
   "metadata": {},
   "source": [
    "## Questions for reviewers\n",
    "- List specific questions for your peer reviewers and project mentor to answer in giving you feedback on this phase\n"
   ]
  }
 ],
 "metadata": {
  "kernelspec": {
   "display_name": "Python 3",
   "language": "python",
   "name": "python3"
  },
  "language_info": {
   "codemirror_mode": {
    "name": "ipython",
    "version": 3
   },
   "file_extension": ".py",
   "mimetype": "text/x-python",
   "name": "python",
   "nbconvert_exporter": "python",
   "pygments_lexer": "ipython3",
   "version": "3.6.8"
  }
 },
 "nbformat": 4,
 "nbformat_minor": 2
}
