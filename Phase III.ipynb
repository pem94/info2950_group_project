{
 "cells": [
  {
   "cell_type": "markdown",
   "metadata": {},
   "source": [
    "**Info 2950 - Phase III**\n",
    "\n",
    "\n",
    "Pre-registration of Analyses\n",
    "\n",
    "Parker Murphy, Emmet Reilly, Jordan Mishael"
   ]
  },
  {
   "cell_type": "markdown",
   "metadata": {},
   "source": [
    "**Analysis 1:**\n",
    "\n",
    "\n",
    "We want to perform a Linear Regression on song duration and year. We want to calculate the correlation coefficent of song duration and year to see if year is a good predictive indicator of song duration. The correlation coefficent value would help us explore our research question exploring whether or not song duration has decreased over time, especially with the emergence of new media technologies. We also want to compare the r-squared value between song duration and year to see if song duration is dependent upon year. We think that this analysis will be interesting to our project because we are interested in how the advent and emergence of new media technologies may have influenced song duration over time. If a high r-squared value exists between song duration and year, this will suggest that there is a strong linear relationship between song duration and year. "
   ]
  },
  {
   "cell_type": "markdown",
   "metadata": {},
   "source": [
    "**Analysis 2:**\n",
    "\n",
    "\n",
    "Based on the tempo, duration, and danceability of a song, we want to perform a multivariable linear regression to predict year. We are interested in whether or not tempo, duration, and danceability have any relationship to the year a song was released. This is important to us because if tempo, duration, and danceability are accurate predictors of year, this will help us understand our research question that hopes to explore how qualities of songs have changed over time with the introduction of new technologies and other key events in music history. For example, in the last decade with the emergence of new technologies like Tik-Tok, high-tempo, high danceability songs have emerged, and we want to be be able to make the claim that there is a relationship between the existence of these technologies and the qualities of songs. In order to do so, we must prove that key traits like tempo, duration, danceability  have clear trends over time. Whether or not these trends are linear or not will point us in the right direction to finding which qualities do follow certain trends. For example, in HW6 we used carat, cut, and clarity to predict diamond price, and we're interested in whether or not our data provide us with similar insights using a multivariable analysis. Hopefully our results will allow us to qualitatively analyze rising trends in new genres and media technologies. "
   ]
  },
  {
   "cell_type": "markdown",
   "metadata": {},
   "source": [
    "Questions for Reviewer:\n",
    "\n",
    "\n",
    "- Do you think we will be able to use year as one of our predictive inputs? Is using year for one of the inputs in our linear regression too ambiguous of a variable? \n",
    "\n",
    "- We also are wondering if we will be able to use a dataframe we make ourselves including the dates of emerging new technologies against a dataset that is considerably longer? For example, we are looking at approximately 15 new technologies, but we have 100 years worth of data -- will we be able to perform mathematical analyses among the two sets? Even if we can't perform coding analysis would it be okay to use a qualitative analysis to contribute to our project? For example, looking at a certain year where say the iphone became significantly more popular and seeing how song characteristics change after that.\n",
    "\n",
    "- Do you have any suggestions for how to find and analyze connections between emerging technologies and song characteristics? Certain data sets to look for?\n",
    "\n",
    "- Obviously there are so many factors at play that influence how song characteristics have changed over the years, is it important for us to mention and account for other variables? Should we use an analysis to make a prediction as to the extent to which technologies have impacted the characteristics of music? Is it important for us to distinguish between the significance of the impact of technologies on how musical characteristics have changed versus how people's listening habits to music have changed?"
   ]
  },
  {
   "cell_type": "code",
   "execution_count": null,
   "metadata": {},
   "outputs": [],
   "source": []
  }
 ],
 "metadata": {
  "kernelspec": {
   "display_name": "Python 3",
   "language": "python",
   "name": "python3"
  },
  "language_info": {
   "codemirror_mode": {
    "name": "ipython",
    "version": 3
   },
   "file_extension": ".py",
   "mimetype": "text/x-python",
   "name": "python",
   "nbconvert_exporter": "python",
   "pygments_lexer": "ipython3",
   "version": "3.6.8"
  }
 },
 "nbformat": 4,
 "nbformat_minor": 4
}
